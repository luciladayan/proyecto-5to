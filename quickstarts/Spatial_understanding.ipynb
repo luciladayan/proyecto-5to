{
  "cells": [
    {
      "cell_type": "markdown",
      "metadata": {
        "id": "lb5yiH5h8x3h"
      },
      "source": [
        "##### Copyright 2025 Google LLC."
      ]
    },
    {
      "cell_type": "code",
      "execution_count": 6,
      "metadata": {
        "cellView": "form",
        "id": "906e07f6e562"
      },
      "outputs": [],
      "source": [
        "#@title Licensed under the Apache License, Version 2.0 (the \"License\");\n",
        "# you may not use this file except in compliance with the License.\n",
        "# You may obtain a copy of the License at\n",
        "#\n",
        "# https://www.apache.org/licenses/LICENSE-2.0\n",
        "#\n",
        "# Unless required by applicable law or agreed to in writing, software\n",
        "# distributed under the License is distributed on an \"AS IS\" BASIS,\n",
        "# WITHOUT WARRANTIES OR CONDITIONS OF ANY KIND, either express or implied.\n",
        "# See the License for the specific language governing permissions and\n",
        "# limitations under the License."
      ]
    },
    {
      "cell_type": "markdown",
      "metadata": {
        "id": "1YXR7Yn480fU"
      },
      "source": [
        "# 2D spatial understanding with Gemini 2.0"
      ]
    },
    {
      "cell_type": "markdown",
      "metadata": {
        "id": "CeJyB7rG82ph"
      },
      "source": [
        "<a target=\"_blank\" href=\"https://colab.research.google.com/github/google-gemini/cookbook/blob/main/quickstarts/Spatial_understanding.ipynb\"><img src=\"https://colab.research.google.com/assets/colab-badge.svg\" height=30/></a>"
      ]
    },
    {
      "cell_type": "markdown",
      "metadata": {
        "id": "u4dbK2FbXCJE"
      },
      "source": [
        "## Setup"
      ]
    },
    {
      "cell_type": "markdown",
      "metadata": {
        "id": "7o6sel20XCJP"
      },
      "source": [
        "### Install SDK\n",
        "\n",
        "The new **[Google Gen AI SDK](https://github.com/googleapis/python-genai)** provides programmatic access to Gemini 2.0 (and previous models) using both the [Google AI for Developers](https://ai.google.dev/gemini-api/docs/models/gemini-v2) and [Vertex AI](https://cloud.google.com/vertex-ai/generative-ai/docs/overview) APIs. With a few exceptions, code that runs on one platform will run on both. This means that you can prototype an application using the Developer API and then migrate the application to Vertex AI without rewriting your code.\n",
        "\n",
        "More details about this new SDK on the [documentation](https://googleapis.github.io/python-genai/) or in the [Getting started](../quickstarts/Get_started.ipynb) notebook."
      ]
    },
    {
      "cell_type": "code",
      "execution_count": 7,
      "metadata": {
        "id": "u53CdzCFXCJP",
        "colab": {
          "base_uri": "https://localhost:8080/"
        },
        "outputId": "ecddae5c-930a-4188-b50b-92f258ed0830"
      },
      "outputs": [
        {
          "output_type": "stream",
          "name": "stdout",
          "text": [
            "\u001b[?25l   \u001b[90m━━━━━━━━━━━━━━━━━━━━━━━━━━━━━━━━━━━━━━━━\u001b[0m \u001b[32m0.0/159.7 kB\u001b[0m \u001b[31m?\u001b[0m eta \u001b[36m-:--:--\u001b[0m\r\u001b[2K   \u001b[90m━━━━━━━━━━━━━━━━━━━━━━━━━━━━━━━━━━━━━━━━\u001b[0m \u001b[32m159.7/159.7 kB\u001b[0m \u001b[31m4.6 MB/s\u001b[0m eta \u001b[36m0:00:00\u001b[0m\n",
            "\u001b[?25h"
          ]
        }
      ],
      "source": [
        "%pip install -U -q google-genai"
      ]
    },
    {
      "cell_type": "markdown",
      "metadata": {
        "id": "gsNLA8_YXCJQ"
      },
      "source": [
        "### Setup your API key\n",
        "\n",
        "To run the following cell, your API key must be stored in a Colab Secret named `GOOGLE_API_KEY`. If you don't already have an API key, or you're not sure how to create a Colab Secret, see [Authentication](../quickstarts/Authentication.ipynb) for an example."
      ]
    },
    {
      "cell_type": "code",
      "execution_count": 8,
      "metadata": {
        "id": "TaPzmJ07XCJQ"
      },
      "outputs": [],
      "source": [
        "from google.colab import userdata\n",
        "import os\n",
        "\n",
        "GOOGLE_API_KEY=userdata.get('GOOGLE_API_KEY')"
      ]
    },
    {
      "cell_type": "markdown",
      "metadata": {
        "id": "3Hx_Gw9i0Yuv"
      },
      "source": [
        "### Initialize SDK client\n",
        "\n",
        "With the new SDK you now only need to initialize a client with your API key."
      ]
    },
    {
      "cell_type": "code",
      "execution_count": 9,
      "metadata": {
        "id": "HghvVpbU0Uap"
      },
      "outputs": [],
      "source": [
        "from google import genai\n",
        "from google.genai import types\n",
        "\n",
        "client = genai.Client(api_key=GOOGLE_API_KEY)"
      ]
    },
    {
      "cell_type": "markdown",
      "metadata": {
        "id": "6eW_IDAkXCJQ"
      },
      "source": [
        "### Select and configure a model\n",
        "\n",
        "Spatial understanding works best [Gemini 2.0 Flash model](https://ai.google.dev/gemini-api/docs/models/gemini-v2). It's even better with 2.5 models like `gemini-2.5-pro-exp-03-25` but slightly slower as it's a [thinking](./Get_started_thinking.ipynb) model.\n",
        "\n",
        "Some features, like segmentation, only works with 2.5 models.\n",
        "\n",
        "You can try with the older ones but it might be more inconsistent (`gemini-1.5-flash-001` had the best results of the previous generation). The [Object detection](https://github.com/google-gemini/cookbook/blob/gemini-1.5-archive/examples/Object_detection.ipynb) contains good examples of what previous models were able to do.\n",
        "\n",
        "For more information about all Gemini models, check the [documentation](https://ai.google.dev/gemini-api/docs/models/gemini) for extended information on each of them."
      ]
    },
    {
      "cell_type": "code",
      "execution_count": 10,
      "metadata": {
        "id": "ydWzoN9nXCJQ"
      },
      "outputs": [],
      "source": [
        "model_name = \"gemini-2.5-pro-exp-03-25\" # @param [\"gemini-1.5-flash-latest\",\"gemini-2.0-flash-lite\",\"gemini-2.0-flash\",\"gemini-2.5-pro-exp-03-25\"] {\"allow-input\":true}"
      ]
    },
    {
      "cell_type": "markdown",
      "metadata": {
        "id": "GOOZsm7i9io6"
      },
      "source": [
        "### Import\n",
        "\n",
        "Import all the necessary modules."
      ]
    },
    {
      "cell_type": "code",
      "execution_count": 11,
      "metadata": {
        "id": "8aBLGCq09GIe"
      },
      "outputs": [],
      "source": [
        "import google.generativeai as genai\n",
        "from PIL import Image\n",
        "\n",
        "import io\n",
        "import os\n",
        "import requests\n",
        "from io import BytesIO"
      ]
    },
    {
      "cell_type": "markdown",
      "metadata": {
        "id": "n4Vx-ZbZCqWf"
      },
      "source": [
        "### Utils\n",
        "\n",
        "Some scripts will be needed to draw the bounding boxes. Of course they are just examples and you are free to just write your own.\n",
        "\n",
        "For example the [Spatial understanding example](https://aistudio.google.com/starter-apps/spatial) from [AI Studio](https://aistudio.google.com) uses HML to render the bounding boxes. You can find its code in the [Github repo](https://github.com/google-gemini/starter-applets/tree/main/spatial)."
      ]
    },
    {
      "cell_type": "code",
      "execution_count": 12,
      "metadata": {
        "cellView": "form",
        "id": "cHbhdPsH1PAS"
      },
      "outputs": [],
      "source": [
        "# @title Parsing JSON output\n",
        "def parse_json(json_output: str):\n",
        "    # Parsing out the markdown fencing\n",
        "    lines = json_output.splitlines()\n",
        "    for i, line in enumerate(lines):\n",
        "        if line == \"```json\":\n",
        "            json_output = \"\\n\".join(lines[i+1:])  # Remove everything before \"```json\"\n",
        "            json_output = json_output.split(\"```\")[0]  # Remove everything after the closing \"```\"\n",
        "            break  # Exit the loop once \"```json\" is found\n",
        "    return json_output"
      ]
    },
    {
      "cell_type": "code",
      "execution_count": 13,
      "metadata": {
        "cellView": "form",
        "id": "oxK0pycZm4AY",
        "colab": {
          "base_uri": "https://localhost:8080/"
        },
        "outputId": "6f2c4864-68ac-4f12-cb75-956d51187efb"
      },
      "outputs": [
        {
          "output_type": "stream",
          "name": "stdout",
          "text": [
            "Reading package lists... Done\n",
            "Building dependency tree... Done\n",
            "Reading state information... Done\n",
            "Suggested packages:\n",
            "  fonts-noto-cjk-extra\n",
            "The following NEW packages will be installed:\n",
            "  fonts-noto-cjk\n",
            "0 upgraded, 1 newly installed, 0 to remove and 34 not upgraded.\n",
            "Need to get 61.2 MB of archives.\n",
            "After this operation, 93.2 MB of additional disk space will be used.\n",
            "Get:1 http://archive.ubuntu.com/ubuntu jammy/main amd64 fonts-noto-cjk all 1:20220127+repack1-1 [61.2 MB]\n",
            "Fetched 61.2 MB in 5s (12.0 MB/s)\n",
            "Selecting previously unselected package fonts-noto-cjk.\n",
            "(Reading database ... 126332 files and directories currently installed.)\n",
            "Preparing to unpack .../fonts-noto-cjk_1%3a20220127+repack1-1_all.deb ...\n",
            "Unpacking fonts-noto-cjk (1:20220127+repack1-1) ...\n",
            "Setting up fonts-noto-cjk (1:20220127+repack1-1) ...\n",
            "Processing triggers for fontconfig (2.13.1-4.2ubuntu5) ...\n"
          ]
        }
      ],
      "source": [
        "# @title Plotting Util\n",
        "\n",
        "# Get Noto JP font to display janapese characters\n",
        "!apt-get install fonts-noto-cjk  # For Noto Sans CJK JP\n",
        "\n",
        "#!apt-get install fonts-source-han-sans-jp # For Source Han Sans (Japanese)\n",
        "\n",
        "import json\n",
        "import random\n",
        "import io\n",
        "from PIL import Image, ImageDraw, ImageFont\n",
        "from PIL import ImageColor\n",
        "\n",
        "additional_colors = [colorname for (colorname, colorcode) in ImageColor.colormap.items()]\n",
        "\n",
        "def plot_bounding_boxes(im, bounding_boxes):\n",
        "    \"\"\"\n",
        "    Plots bounding boxes on an image with markers for each a name, using PIL, normalized coordinates, and different colors.\n",
        "\n",
        "    Args:\n",
        "        img_path: The path to the image file.\n",
        "        bounding_boxes: A list of bounding boxes containing the name of the object\n",
        "         and their positions in normalized [y1 x1 y2 x2] format.\n",
        "    \"\"\"\n",
        "\n",
        "    # Load the image\n",
        "    img = im\n",
        "    width, height = img.size\n",
        "    print(img.size)\n",
        "    # Create a drawing object\n",
        "    draw = ImageDraw.Draw(img)\n",
        "\n",
        "    # Define a list of colors\n",
        "    colors = [\n",
        "    'red',\n",
        "    'green',\n",
        "    'blue',\n",
        "    'yellow',\n",
        "    'orange',\n",
        "    'pink',\n",
        "    'purple',\n",
        "    'brown',\n",
        "    'gray',\n",
        "    'beige',\n",
        "    'turquoise',\n",
        "    'cyan',\n",
        "    'magenta',\n",
        "    'lime',\n",
        "    'navy',\n",
        "    'maroon',\n",
        "    'teal',\n",
        "    'olive',\n",
        "    'coral',\n",
        "    'lavender',\n",
        "    'violet',\n",
        "    'gold',\n",
        "    'silver',\n",
        "    ] + additional_colors\n",
        "\n",
        "    # Parsing out the markdown fencing\n",
        "    bounding_boxes = parse_json(bounding_boxes)\n",
        "\n",
        "    font = ImageFont.truetype(\"NotoSansCJK-Regular.ttc\", size=14)\n",
        "\n",
        "    # Iterate over the bounding boxes\n",
        "    for i, bounding_box in enumerate(json.loads(bounding_boxes)):\n",
        "      # Select a color from the list\n",
        "      color = colors[i % len(colors)]\n",
        "\n",
        "      # Convert normalized coordinates to absolute coordinates\n",
        "      abs_y1 = int(bounding_box[\"box_2d\"][0]/1000 * height)\n",
        "      abs_x1 = int(bounding_box[\"box_2d\"][1]/1000 * width)\n",
        "      abs_y2 = int(bounding_box[\"box_2d\"][2]/1000 * height)\n",
        "      abs_x2 = int(bounding_box[\"box_2d\"][3]/1000 * width)\n",
        "\n",
        "      if abs_x1 > abs_x2:\n",
        "        abs_x1, abs_x2 = abs_x2, abs_x1\n",
        "\n",
        "      if abs_y1 > abs_y2:\n",
        "        abs_y1, abs_y2 = abs_y2, abs_y1\n",
        "\n",
        "      # Draw the bounding box\n",
        "      draw.rectangle(\n",
        "          ((abs_x1, abs_y1), (abs_x2, abs_y2)), outline=color, width=4\n",
        "      )\n",
        "\n",
        "      # Draw the text\n",
        "      if \"label\" in bounding_box:\n",
        "        draw.text((abs_x1 + 8, abs_y1 + 6), bounding_box[\"label\"], fill=color, font=font)\n",
        "\n",
        "    # Display the image\n",
        "    img.show()"
      ]
    },
    {
      "cell_type": "markdown",
      "metadata": {
        "id": "wjP8ktS62QRv"
      },
      "source": [
        "## Search within an image\n",
        "\n",
        "Let's complicate things and search within the image for specific objects."
      ]
    },
    {
      "cell_type": "markdown",
      "source": [],
      "metadata": {
        "id": "rg0BWAAko1oL"
      }
    },
    {
      "cell_type": "code",
      "source": [
        "!pip install easyocr\n"
      ],
      "metadata": {
        "collapsed": true,
        "colab": {
          "base_uri": "https://localhost:8080/"
        },
        "id": "wzJ4THdws2CB",
        "outputId": "4f8bea0e-ec48-4f2f-ffca-02fa2f394162"
      },
      "execution_count": 36,
      "outputs": [
        {
          "output_type": "stream",
          "name": "stdout",
          "text": [
            "\u001b[33mWARNING: Ignoring invalid distribution ~vidia-cudnn-cu12 (/usr/local/lib/python3.11/dist-packages)\u001b[0m\u001b[33m\n",
            "\u001b[0m\u001b[33mWARNING: Ignoring invalid distribution ~vidia-cudnn-cu12 (/usr/local/lib/python3.11/dist-packages)\u001b[0m\u001b[33m\n",
            "\u001b[0mRequirement already satisfied: easyocr in /usr/local/lib/python3.11/dist-packages (1.7.2)\n",
            "Requirement already satisfied: torch in /usr/local/lib/python3.11/dist-packages (from easyocr) (2.6.0+cu124)\n",
            "Requirement already satisfied: torchvision>=0.5 in /usr/local/lib/python3.11/dist-packages (from easyocr) (0.21.0+cu124)\n",
            "Requirement already satisfied: opencv-python-headless in /usr/local/lib/python3.11/dist-packages (from easyocr) (4.11.0.86)\n",
            "Requirement already satisfied: scipy in /usr/local/lib/python3.11/dist-packages (from easyocr) (1.14.1)\n",
            "Requirement already satisfied: numpy in /usr/local/lib/python3.11/dist-packages (from easyocr) (2.0.2)\n",
            "Requirement already satisfied: Pillow in /usr/local/lib/python3.11/dist-packages (from easyocr) (11.1.0)\n",
            "Requirement already satisfied: scikit-image in /usr/local/lib/python3.11/dist-packages (from easyocr) (0.25.2)\n",
            "Requirement already satisfied: python-bidi in /usr/local/lib/python3.11/dist-packages (from easyocr) (0.6.6)\n",
            "Requirement already satisfied: PyYAML in /usr/local/lib/python3.11/dist-packages (from easyocr) (6.0.2)\n",
            "Requirement already satisfied: Shapely in /usr/local/lib/python3.11/dist-packages (from easyocr) (2.1.0)\n",
            "Requirement already satisfied: pyclipper in /usr/local/lib/python3.11/dist-packages (from easyocr) (1.3.0.post6)\n",
            "Requirement already satisfied: ninja in /usr/local/lib/python3.11/dist-packages (from easyocr) (1.11.1.4)\n",
            "Requirement already satisfied: filelock in /usr/local/lib/python3.11/dist-packages (from torch->easyocr) (3.18.0)\n",
            "Requirement already satisfied: typing-extensions>=4.10.0 in /usr/local/lib/python3.11/dist-packages (from torch->easyocr) (4.13.1)\n",
            "Requirement already satisfied: networkx in /usr/local/lib/python3.11/dist-packages (from torch->easyocr) (3.4.2)\n",
            "Requirement already satisfied: jinja2 in /usr/local/lib/python3.11/dist-packages (from torch->easyocr) (3.1.6)\n",
            "Requirement already satisfied: fsspec in /usr/local/lib/python3.11/dist-packages (from torch->easyocr) (2025.3.2)\n",
            "Requirement already satisfied: nvidia-cuda-nvrtc-cu12==12.4.127 in /usr/local/lib/python3.11/dist-packages (from torch->easyocr) (12.4.127)\n",
            "Requirement already satisfied: nvidia-cuda-runtime-cu12==12.4.127 in /usr/local/lib/python3.11/dist-packages (from torch->easyocr) (12.4.127)\n",
            "Requirement already satisfied: nvidia-cuda-cupti-cu12==12.4.127 in /usr/local/lib/python3.11/dist-packages (from torch->easyocr) (12.4.127)\n",
            "Collecting nvidia-cudnn-cu12==9.1.0.70 (from torch->easyocr)\n",
            "  Using cached nvidia_cudnn_cu12-9.1.0.70-py3-none-manylinux2014_x86_64.whl.metadata (1.6 kB)\n",
            "Requirement already satisfied: nvidia-cublas-cu12==12.4.5.8 in /usr/local/lib/python3.11/dist-packages (from torch->easyocr) (12.4.5.8)\n",
            "Requirement already satisfied: nvidia-cufft-cu12==11.2.1.3 in /usr/local/lib/python3.11/dist-packages (from torch->easyocr) (11.2.1.3)\n",
            "Requirement already satisfied: nvidia-curand-cu12==10.3.5.147 in /usr/local/lib/python3.11/dist-packages (from torch->easyocr) (10.3.5.147)\n",
            "Requirement already satisfied: nvidia-cusolver-cu12==11.6.1.9 in /usr/local/lib/python3.11/dist-packages (from torch->easyocr) (11.6.1.9)\n",
            "Requirement already satisfied: nvidia-cusparse-cu12==12.3.1.170 in /usr/local/lib/python3.11/dist-packages (from torch->easyocr) (12.3.1.170)\n",
            "Requirement already satisfied: nvidia-cusparselt-cu12==0.6.2 in /usr/local/lib/python3.11/dist-packages (from torch->easyocr) (0.6.2)\n",
            "Requirement already satisfied: nvidia-nccl-cu12==2.21.5 in /usr/local/lib/python3.11/dist-packages (from torch->easyocr) (2.21.5)\n",
            "Requirement already satisfied: nvidia-nvtx-cu12==12.4.127 in /usr/local/lib/python3.11/dist-packages (from torch->easyocr) (12.4.127)\n",
            "Requirement already satisfied: nvidia-nvjitlink-cu12==12.4.127 in /usr/local/lib/python3.11/dist-packages (from torch->easyocr) (12.4.127)\n",
            "Requirement already satisfied: triton==3.2.0 in /usr/local/lib/python3.11/dist-packages (from torch->easyocr) (3.2.0)\n",
            "Requirement already satisfied: sympy==1.13.1 in /usr/local/lib/python3.11/dist-packages (from torch->easyocr) (1.13.1)\n",
            "Requirement already satisfied: mpmath<1.4,>=1.1.0 in /usr/local/lib/python3.11/dist-packages (from sympy==1.13.1->torch->easyocr) (1.3.0)\n",
            "Requirement already satisfied: imageio!=2.35.0,>=2.33 in /usr/local/lib/python3.11/dist-packages (from scikit-image->easyocr) (2.37.0)\n",
            "Requirement already satisfied: tifffile>=2022.8.12 in /usr/local/lib/python3.11/dist-packages (from scikit-image->easyocr) (2025.3.30)\n",
            "Requirement already satisfied: packaging>=21 in /usr/local/lib/python3.11/dist-packages (from scikit-image->easyocr) (24.2)\n",
            "Requirement already satisfied: lazy-loader>=0.4 in /usr/local/lib/python3.11/dist-packages (from scikit-image->easyocr) (0.4)\n",
            "Requirement already satisfied: MarkupSafe>=2.0 in /usr/local/lib/python3.11/dist-packages (from jinja2->torch->easyocr) (3.0.2)\n",
            "Using cached nvidia_cudnn_cu12-9.1.0.70-py3-none-manylinux2014_x86_64.whl (664.8 MB)\n",
            "\u001b[33mWARNING: Ignoring invalid distribution ~vidia-cudnn-cu12 (/usr/local/lib/python3.11/dist-packages)\u001b[0m\u001b[33m\n",
            "\u001b[0m\u001b[31mERROR: Operation cancelled by user\u001b[0m\u001b[31m\n",
            "\u001b[0mTraceback (most recent call last):\n",
            "  File \"/usr/local/lib/python3.11/dist-packages/pip/_internal/cli/base_command.py\", line 179, in exc_logging_wrapper\n",
            "    status = run_func(*args)\n",
            "             ^^^^^^^^^^^^^^^\n",
            "  File \"/usr/local/lib/python3.11/dist-packages/pip/_internal/cli/req_command.py\", line 67, in wrapper\n",
            "    return func(self, options, args)\n",
            "           ^^^^^^^^^^^^^^^^^^^^^^^^^\n",
            "  File \"/usr/local/lib/python3.11/dist-packages/pip/_internal/commands/install.py\", line 447, in run\n",
            "    conflicts = self._determine_conflicts(to_install)\n",
            "                ^^^^^^^^^^^^^^^^^^^^^^^^^^^^^^^^^^^^^\n",
            "  File \"/usr/local/lib/python3.11/dist-packages/pip/_internal/commands/install.py\", line 578, in _determine_conflicts\n",
            "    return check_install_conflicts(to_install)\n",
            "           ^^^^^^^^^^^^^^^^^^^^^^^^^^^^^^^^^^^\n",
            "  File \"/usr/local/lib/python3.11/dist-packages/pip/_internal/operations/check.py\", line 101, in check_install_conflicts\n",
            "    package_set, _ = create_package_set_from_installed()\n",
            "                     ^^^^^^^^^^^^^^^^^^^^^^^^^^^^^^^^^^^\n",
            "  File \"/usr/local/lib/python3.11/dist-packages/pip/_internal/operations/check.py\", line 39, in create_package_set_from_installed\n",
            "    for dist in env.iter_installed_distributions(local_only=False, skip=()):\n",
            "  File \"/usr/local/lib/python3.11/dist-packages/pip/_internal/metadata/base.py\", line 664, in <genexpr>\n",
            "    return (d for d in it if d.canonical_name not in skip)\n",
            "           ^^^^^^^^^^^^^^^^^^^^^^^^^^^^^^^^^^^^^^^^^^^^^^^\n",
            "  File \"/usr/local/lib/python3.11/dist-packages/pip/_internal/metadata/base.py\", line 612, in iter_all_distributions\n",
            "    for dist in self._iter_distributions():\n",
            "  File \"/usr/local/lib/python3.11/dist-packages/pip/_internal/metadata/importlib/_envs.py\", line 176, in _iter_distributions\n",
            "    yield from finder.find(location)\n",
            "  File \"/usr/local/lib/python3.11/dist-packages/pip/_internal/metadata/importlib/_envs.py\", line 79, in find\n",
            "    for dist, info_location in self._find_impl(location):\n",
            "  File \"/usr/local/lib/python3.11/dist-packages/pip/_internal/metadata/importlib/_envs.py\", line 64, in _find_impl\n",
            "    raw_name = get_dist_name(dist)\n",
            "               ^^^^^^^^^^^^^^^^^^^\n",
            "  File \"/usr/local/lib/python3.11/dist-packages/pip/_internal/metadata/importlib/_compat.py\", line 52, in get_dist_name\n",
            "    name = cast(Any, dist).name\n",
            "           ^^^^^^^^^^^^^^^^^^^^\n",
            "  File \"/usr/lib/python3.11/importlib/metadata/__init__.py\", line 622, in name\n",
            "    return self.metadata['Name']\n",
            "           ^^^^^^^^^^^^^\n",
            "  File \"/usr/lib/python3.11/importlib/metadata/__init__.py\", line 617, in metadata\n",
            "    return _adapters.Message(email.message_from_string(text))\n",
            "                             ^^^^^^^^^^^^^^^^^^^^^^^^^^^^^^^\n",
            "  File \"/usr/lib/python3.11/email/__init__.py\", line 37, in message_from_string\n",
            "    return Parser(*args, **kws).parsestr(s)\n",
            "           ^^^^^^^^^^^^^^^^^^^^^^^^^^^^^^^^\n",
            "  File \"/usr/lib/python3.11/email/parser.py\", line 67, in parsestr\n",
            "    return self.parse(StringIO(text), headersonly=headersonly)\n",
            "           ^^^^^^^^^^^^^^^^^^^^^^^^^^^^^^^^^^^^^^^^^^^^^^^^^^^\n",
            "  File \"/usr/lib/python3.11/email/parser.py\", line 56, in parse\n",
            "    feedparser.feed(data)\n",
            "  File \"/usr/lib/python3.11/email/feedparser.py\", line 173, in feed\n",
            "    self._input.push(data)\n",
            "  File \"/usr/lib/python3.11/email/feedparser.py\", line 109, in push\n",
            "    parts = self._partial.readlines()\n",
            "            ^^^^^^^^^^^^^^^^^^^^^^^^^\n",
            "KeyboardInterrupt\n",
            "\n",
            "During handling of the above exception, another exception occurred:\n",
            "\n",
            "Traceback (most recent call last):\n",
            "  File \"/usr/local/bin/pip3\", line 10, in <module>\n",
            "    sys.exit(main())\n",
            "             ^^^^^^\n",
            "  File \"/usr/local/lib/python3.11/dist-packages/pip/_internal/cli/main.py\", line 80, in main\n",
            "    return command.main(cmd_args)\n",
            "           ^^^^^^^^^^^^^^^^^^^^^^\n",
            "  File \"/usr/local/lib/python3.11/dist-packages/pip/_internal/cli/base_command.py\", line 100, in main\n",
            "    return self._main(args)\n",
            "           ^^^^^^^^^^^^^^^^\n",
            "  File \"/usr/local/lib/python3.11/dist-packages/pip/_internal/cli/base_command.py\", line 232, in _main\n",
            "    return run(options, args)\n",
            "           ^^^^^^^^^^^^^^^^^^\n",
            "  File \"/usr/local/lib/python3.11/dist-packages/pip/_internal/cli/base_command.py\", line 216, in exc_logging_wrapper\n",
            "    logger.debug(\"Exception information:\", exc_info=True)\n",
            "  File \"/usr/lib/python3.11/logging/__init__.py\", line 1477, in debug\n",
            "    self._log(DEBUG, msg, args, **kwargs)\n",
            "  File \"/usr/lib/python3.11/logging/__init__.py\", line 1634, in _log\n",
            "    self.handle(record)\n",
            "  File \"/usr/lib/python3.11/logging/__init__.py\", line 1644, in handle\n",
            "    self.callHandlers(record)\n",
            "  File \"/usr/lib/python3.11/logging/__init__.py\", line 1706, in callHandlers\n",
            "    hdlr.handle(record)\n",
            "  File \"/usr/lib/python3.11/logging/__init__.py\", line 978, in handle\n",
            "    self.emit(record)\n",
            "  File \"/usr/lib/python3.11/logging/handlers.py\", line 75, in emit\n",
            "    logging.FileHandler.emit(self, record)\n",
            "  File \"/usr/lib/python3.11/logging/__init__.py\", line 1230, in emit\n",
            "    StreamHandler.emit(self, record)\n",
            "  File \"/usr/lib/python3.11/logging/__init__.py\", line 1110, in emit\n",
            "    msg = self.format(record)\n",
            "          ^^^^^^^^^^^^^^^^^^^\n",
            "  File \"/usr/lib/python3.11/logging/__init__.py\", line 953, in format\n",
            "    return fmt.format(record)\n",
            "           ^^^^^^^^^^^^^^^^^^\n",
            "  File \"/usr/local/lib/python3.11/dist-packages/pip/_internal/utils/logging.py\", line 112, in format\n",
            "    formatted = super().format(record)\n",
            "                ^^^^^^^^^^^^^^^^^^^^^^\n",
            "  File \"/usr/lib/python3.11/logging/__init__.py\", line 690, in format\n",
            "    s = self.formatMessage(record)\n",
            "        ^^^^^^^^^^^^^^^^^^^^^^^^^^\n",
            "  File \"/usr/lib/python3.11/logging/__init__.py\", line 659, in formatMessage\n",
            "    return self._style.format(record)\n",
            "           ^^^^^^^^^^^^^^^^^^^^^^^^^^\n",
            "  File \"/usr/lib/python3.11/logging/__init__.py\", line 449, in format\n",
            "    return self._format(record)\n",
            "           ^^^^^^^^^^^^^^^^^^^^\n",
            "  File \"/usr/lib/python3.11/logging/__init__.py\", line 440, in _format\n",
            "    def _format(self, record):\n",
            "\n",
            "KeyboardInterrupt\n",
            "^C\n"
          ]
        }
      ]
    },
    {
      "cell_type": "code",
      "source": [
        "import cv2\n",
        "import easyocr\n",
        "import matplotlib.pyplot as plt\n",
        "import requests\n",
        "import numpy as np\n",
        "\n",
        "# 1. Leer la imagen desde la URL\n",
        "image_url = \"https://farmacityar.vtexassets.com/arquivos/ids/254903-1200-auto?v=638506137049230000&width=1200&height=auto&aspect=true\"\n",
        "response = requests.get(image_url)\n",
        "response.raise_for_status()  # Verifica si la solicitud fue exitosa\n",
        "\n",
        "# Decodificar imagen desde bytes\n",
        "image_array = np.asarray(bytearray(response.content), dtype=\"uint8\")\n",
        "image = cv2.imdecode(image_array, cv2.IMREAD_COLOR)\n",
        "\n",
        "# 2. Preprocesamiento: convertir a escala de grises\n",
        "gray = cv2.cvtColor(image, cv2.COLOR_BGR2GRAY)\n",
        "\n",
        "# Aplicar umbral adaptativo (mejora el contraste para OCR)\n",
        "thresh = cv2.adaptiveThreshold(\n",
        "    gray, 255,\n",
        "    cv2.ADAPTIVE_THRESH_GAUSSIAN_C,\n",
        "    cv2.THRESH_BINARY,\n",
        "    31, 2\n",
        ")\n",
        "\n",
        "# 3. Guardar y mostrar imagen preprocesada\n",
        "cv2.imwrite(\"preprocesada.png\", thresh)  # Opcional: guardar para revisar\n",
        "plt.imshow(thresh, cmap='gray')\n",
        "plt.axis('off')\n",
        "plt.title(\"Imagen Preprocesada\")\n",
        "plt.show()\n",
        "\n",
        "# 4. Usar EasyOCR (con idioma español o inglés según el producto)\n",
        "reader = easyocr.Reader(['es', 'en'])  # Podés usar solo ['es'] si es todo en español\n",
        "result = reader.readtext(thresh, detail=0)\n",
        "\n",
        "\n",
        "# 5. Guardar y mostrar resultados\n",
        "texto_detectado = \"\\n\".join(result)  # Une las líneas con saltos de línea\n",
        "\n",
        "print(\"Texto detectado:\")\n",
        "print(texto_detectado)\n",
        "\n"
      ],
      "metadata": {
        "colab": {
          "base_uri": "https://localhost:8080/",
          "height": 734
        },
        "id": "6v7GYu8xrtoU",
        "outputId": "2eb077a3-e2bf-4190-efb1-f20717c9a358"
      },
      "execution_count": 53,
      "outputs": [
        {
          "output_type": "display_data",
          "data": {
            "text/plain": [
              "<Figure size 640x480 with 1 Axes>"
            ],
            "image/png": "[encoded data removed]"
          },
          "metadata": {}
        },
        {
          "output_type": "stream",
          "name": "stderr",
          "text": [
            "WARNING:easyocr.easyocr:Neither CUDA nor MPS are available - defaulting to CPU. Note: This module is much faster with a GPU.\n"
          ]
        },
        {
          "output_type": "stream",
          "name": "stdout",
          "text": [
            "Texto detectado:\n",
            "PANTENE\n",
            "PRO\"\n",
            "MIRACLES\n",
            "KERATINA\n",
            "REPARA\n",
            "PROTEGE\n",
            "Limpia DELICADAMENTE\n",
            "RePaRA EL DaRo\n",
            "Ahinoacido\n",
            "PRo-Vitamina B5\n",
            "SHAMPOO REPARADOR\n",
            "PARA CABELLO DAÑ'DO Y SECQ\n",
            "SIN SAL'\n",
            "400ml\n"
          ]
        }
      ]
    },
    {
      "cell_type": "code",
      "source": [
        "import re\n",
        "\n",
        "# Unir el resultado de EasyOCR en un solo string (si no lo hiciste ya)\n",
        "texto_detectado = \"\\n\".join(result)\n",
        "\n",
        "# Limpiar el texto\n",
        "texto_limpio = re.sub(r'[^\\w\\s&%.\\-]', '', texto_detectado)  # Elimina caracteres no deseados\n",
        "texto_limpio = re.sub(r'\\s+', ' ', texto_limpio).strip()     # Reemplaza saltos de línea/múltiples espacios por uno solo\n",
        "\n",
        "# Mostrar el texto limpio\n",
        "print(\"Texto limpio:\")\n",
        "print(texto_limpio)\n",
        "\n"
      ],
      "metadata": {
        "colab": {
          "base_uri": "https://localhost:8080/"
        },
        "id": "BSVzKtKpREYj",
        "outputId": "7f4bbd5e-715c-4219-8e3c-12595986b5d2"
      },
      "execution_count": 56,
      "outputs": [
        {
          "output_type": "stream",
          "name": "stdout",
          "text": [
            "Texto limpio:\n",
            "PANTENE PRO MIRACLES KERATINA REPARA PROTEGE Limpia DELICADAMENTE RePaRA EL DaRo Ahinoacido PRo-Vitamina B5 SHAMPOO REPARADOR PARA CABELLO DAÑDO Y SECQ SIN SAL 400ml\n"
          ]
        }
      ]
    },
    {
      "cell_type": "code",
      "source": [
        "import re\n",
        "\n",
        "\n",
        "\n",
        "# Lista de tipos de productos en las tres categorías\n",
        "productos_dermatologia = [\n",
        "   \"Gel limpiador facial\", \"Jabón de cara\", \"Jabón corporal\", \"Exfoliante facial\", \"Exfoliante corporal\",\n",
        "   \"Hidratante facial\", \"Crema hidratante corporal\", \"Crema para piel seca\", \"Crema antiarrugas\",\n",
        "   \"Sérum antienvejecimiento\", \"Mascarilla facial hidratante\", \"Mascarilla purificante\", \"Mascarilla exfoliante\",\n",
        "   \"Cremas con ácido hialurónico\", \"Cremas con vitamina C\", \"Cremas con retinol\", \"Protector solar facial\",\n",
        "   \"Protector solar corporal\", \"Crema para quemaduras solares\", \"Crema para rosácea\", \"Crema para psoriasis\",\n",
        "   \"Tratamiento para acné\", \"Geles antiacné\", \"Crema para dermatitis atópica\", \"Crema para la piel sensible\",\n",
        "   \"Cremas con niacinamida\", \"Cremas despigmentantes\", \"Tratamientos para manchas solares\",\n",
        "   \"Tratamiento para hiperpigmentación\", \"Gel calmante para irritaciones\", \"Crema para cicatrices\", \"Crema para estrías\",\n",
        "   \"Tónico facial\", \"Tónico astringente\", \"Gel refrescante para piernas cansadas\", \"Crema para quemaduras\",\n",
        "   \"Aceite para piel seca\", \"Aceite esencial para la piel\", \"Crema para uñas quebradizas\", \"Crema para pies secos\",\n",
        "   \"Crema para manos secas\", \"Cremas para piel grasa\", \"Cremas para piel mixta\", \"Desodorante sin alcohol\",\n",
        "   \"Desodorante antitranspirante\", \"Cremas para cuidado de tatuajes\", \"Gel para el cuidado del cuero cabelludo\",\n",
        "   \"Aceite de rosa mosqueta\", \"Aceite de argán\", \"Bálsamo para labios\", \"Crema para ojos (antiarrugas)\",\n",
        "   \"Crema para ojeras\", \"Crema de contorno de ojos\", \"Exfoliante de labios\", \"Crema reparadora para la piel\",\n",
        "   \"Crema para cicatrices quirúrgicas\", \"Pomada antibiótica para la piel\", \"Crema con colágeno\",\n",
        "   \"Mascarilla facial anti-edad\", \"Spray refrescante facial\", \"Aceite corporal hidratante\", \"Tónico calmante\",\n",
        "   \"Loción corporal para piel seca\", \"Cremas para piel con acné rosáceo\", \"Crema antimicrobiana para la piel\",\n",
        "   \"Cremas para picazón o prurito\", \"Crema para dermatitis seborreica\", \"Geles para estrías\", \"Mascarilla capilar reparadora\",\n",
        "   \"Shampoo para cuero cabelludo sensible\", \"Aceite para el cabello seco\", \"Geles antibacterianos para la piel\",\n",
        "   \"Pomada para hongos en la piel\"\n",
        "]\n",
        "\n",
        "\n",
        "productos_maquillaje = [\n",
        "   \"Base de maquillaje\", \"Base en polvo\", \"Base líquida\", \"Base en crema\", \"Corrector de ojeras\",\n",
        "   \"Corrector de imperfecciones\", \"Polvo traslúcido\", \"Polvo compacto\", \"Blush (rubor)\", \"Bronzer\",\n",
        "   \"Highlighter (iluminador)\", \"Contorno facial\", \"Sérum de maquillaje\", \"Primers o prebases de maquillaje\",\n",
        "   \"Spray fijador de maquillaje\", \"Pintalabios\", \"Brillo de labios\", \"Lápiz labial mate\", \"Lápiz labial líquido\",\n",
        "   \"Lápiz para cejas\", \"Gel para cejas\", \"Sombra de ojos\", \"Sombra en crema\", \"Sombra en polvo\",\n",
        "   \"Delineador de ojos\", \"Delineador líquido\", \"Delineador en gel\", \"Delineador en lápiz\", \"Máscara de pestañas (rímel)\",\n",
        "   \"Tintes para cejas\", \"Tinte de pestañas\", \"Fijador de cejas\", \"Desmaquillante facial\", \"Desmaquillante de ojos\",\n",
        "   \"Toallitas desmaquillantes\", \"Aceite desmaquillante\", \"Limpiador bifásico\", \"Limpiador micelar\",\n",
        "   \"Crema para desmaquillar\", \"Exfoliante facial de maquillaje\", \"Spray fijador de cejas\", \"Pestañas postizas\",\n",
        "   \"Pegamento para pestañas postizas\", \"Bálsamo reparador de labios\", \"Exfoliante labial\", \"Kit para cejas\",\n",
        "   \"Sombra de cejas en polvo\", \"Tinte para labios\", \"Pintura para cara (body paint)\", \"Brillo de cuerpo\",\n",
        "   \"Cejas en gel\", \"Cejas en lápiz\", \"Base con SPF (protección solar)\", \"Líquido matificante para rostro\",\n",
        "   \"Póster para rostro (para igualar el tono de piel)\"\n",
        "]\n",
        "\n",
        "\n",
        "productos_higiene = [\n",
        "   \"Shampoo\", \"Acondicionador\", \"Jabón de cuerpo\", \"Gel de baño\", \"Exfoliante corporal\",\n",
        "   \"Desodorante\", \"Pasta de dientes\", \"Enjuague bucal\", \"Bálsamo para labios\", \"Gel para el cuidado del cuero cabelludo\",\n",
        "   \"Cepillo de dientes\", \"Jabón en barra\", \"Jabón líquido para manos\", \"Toallitas húmedas\", \"Desinfectante para manos\",\n",
        "   \"Toallitas desmaquillantes\", \"Jabón antibacteriano\"\n",
        "]\n",
        "\n",
        "\n",
        "# Lista de tamaños comunes\n",
        "tamanos = [\n",
        "   \"50 ml\", \"100 ml\", \"150 ml\", \"200 ml\", \"250 ml\", \"500 ml\", \"1 L\", \"30 g\", \"50 g\", \"100 g\", \"150 g\",\n",
        "   \"200 g\", \"250 g\", \"500 g\", \"1 kg\", \"5 oz\", \"10 oz\", \"15 oz\", \"20 oz\"\n",
        "]\n",
        "\n",
        "\n",
        "# Lista de marcas comunes\n",
        "marcas = [\n",
        "   \"L'Oréal\", \"Neutrogena\", \"Nivea\", \"Dove\", \"Garnier\", \"Olay\", \"Vichy\", \"La Roche\", \"Clinique\", \"Aveeno\",\n",
        "   \"Eucerin\", \"Bioderma\", \"Vaseline\", \"Lush\", \"L'Occitane\", \"Rimmel\", \"Maybelline\", \"Revlon\", \"Estée Lauder\",\n",
        "   \"Mac\", \"Urban Decay\", \"Shiseido\", \"Fenty Beauty\", \"Too Faced\", \"Tarte\", \"Nars\", \"Farsali\", \"Becca\", \"ELF\",\n",
        "   \"ColourPop\", \"Milani\", \"It Cosmetics\", \"Kiehl's\", \"Dermalogica\", \"Origins\", \"Caudalie\", \"La Mer\", \"Clarins\",\n",
        "   \"Elizabeth Arden\", \"Burt's Bees\", \"Sally Hansen\", \"Vaseline\", \"Pantene\", \"Head & Shoulders\", \"Aussie\",\n",
        "   \"Herbal Essences\", \"TRESemmé\", \"Schwarzkopf\", \"Aveda\", \"Moroccanoil\", \"Living Proof\"\n",
        "]\n",
        "\n"
      ],
      "metadata": {
        "id": "P7Y8ApHtTYn8"
      },
      "execution_count": 57,
      "outputs": []
    },
    {
      "cell_type": "code",
      "source": [
        "\n",
        "# Regex para detección más flexible\n",
        "regex_marcas = r\"(\" + \"|\".join(map(re.escape, marcas)) + r\")\"\n",
        "regex_productos = r\"(\" + \"|\".join(map(re.escape, productos_dermatologia + productos_maquillaje + productos_higiene)) + r\")\"\n",
        "regex_tamanos = r\"(\" + \"|\".join(map(re.escape, tamanos)) + r\")\"\n",
        "\n",
        "\n",
        "# Buscar coincidencias para marcas, productos y tamaños\n",
        "marcas_en_texto = re.findall(regex_marcas, texto_limpio, re.IGNORECASE)\n",
        "productos_en_texto = re.findall(regex_productos, texto_limpio, re.IGNORECASE)\n",
        "tamanos_en_texto = re.findall(regex_tamanos, texto_limpio, re.IGNORECASE)\n",
        "\n",
        "# Imprimir los resultados de la búsqueda\n",
        "print(f\"Marcas encontradas: {marcas_en_texto}\")\n",
        "print(f\"Productos encontrados: {productos_en_texto}\")\n",
        "print(f\"Tamaños encontrados: {tamanos_en_texto}\")\n",
        "\n",
        "# Si se encuentran coincidencias, imprimir los detalles\n",
        "if marcas_en_texto and productos_en_texto and tamanos_en_texto:\n",
        "    # Tomamos el primer resultado de cada lista (puedes modificar esto si quieres más coincidencias)\n",
        "    marca = marcas_en_texto[0]\n",
        "    producto = productos_en_texto[0]\n",
        "    tamano = tamanos_en_texto[0]\n",
        "\n",
        "    # Diccionario para normalizar nombres de marcas\n",
        "    marca_normalizada = {m.lower(): m for m in marcas}\n",
        "\n",
        "    # Normalizar la marca\n",
        "    marca_key = marca.lower()\n",
        "    marca_final = marca_normalizada.get(marca_key, marca)\n",
        "\n",
        "    print(f\"Marca: {marca_finaxl}\")\n",
        "    print(f\"Producto: {producto}\")\n",
        "    print(f\"Tamaño: {tamano}\")\n",
        "else:\n",
        "    print(\"No se encontraron coincidencias.\")\n",
        "\n"
      ],
      "metadata": {
        "colab": {
          "base_uri": "https://localhost:8080/"
        },
        "id": "3qjoq5xgdPrq",
        "outputId": "dc4d11aa-0571-4aa8-944c-4e05c6cfb5d9"
      },
      "execution_count": 74,
      "outputs": [
        {
          "output_type": "stream",
          "name": "stdout",
          "text": [
            "Marcas encontradas: ['PANTENE']\n",
            "Productos encontrados: ['SHAMPOO']\n",
            "Tamaños encontrados: []\n",
            "No se encontraron coincidencias.\n"
          ]
        }
      ]
    },
    {
      "cell_type": "code",
      "source": [
        "import requests\n",
        "from bs4 import BeautifulSoup\n",
        "\n",
        "def obtener_ingredientes(producto):\n",
        "    # Formamos la URL para buscar el producto en INCI Decoder\n",
        "    # Necesitamos el nombre del producto en formato adecuado para la URL\n",
        "    producto_url = f\"https://www.incidecoder.com/products/{producto.replace(' ', '-').lower()}\"\n",
        "\n",
        "    try:\n",
        "        # Realizamos la petición para acceder a la página del producto\n",
        "        response = requests.get(producto_url)\n",
        "        response.raise_for_status()\n",
        "\n",
        "        # Usamos BeautifulSoup para analizar el HTML de la página\n",
        "        soup = BeautifulSoup(response.text, 'html.parser')\n",
        "\n",
        "        # Buscamos la lista de ingredientes\n",
        "        ingredientes = soup.find('div', class_='ingredients-list')  # Ajusta según el HTML de la página\n",
        "        if ingredientes:\n",
        "            ingredientes_texto = ingredientes.get_text().strip()\n",
        "            print(f\"Ingredientes obtenidos desde INCI Decoder: {ingredientes_texto}\")\n",
        "            return ingredientes_texto\n",
        "        else:\n",
        "            print(\"No se encontraron ingredientes en la página del producto.\")\n",
        "            return None\n",
        "\n",
        "    except requests.exceptions.RequestException as e:\n",
        "        print(f\"Error al intentar acceder a INCI Decoder: {e}\")\n",
        "        return None\n",
        "\n",
        "# Entrada: nombre del producto\n",
        "producto = \"pantene-daily-moisture-renewal-shampoo\"  # Ejemplo de nombre de producto\n",
        "\n",
        "# Llamamos a la función para obtener los ingredientes\n",
        "ingredientes = obtener_ingredientes(producto)\n",
        "\n",
        "if ingredientes:\n",
        "    print(f\"Ingredientes del producto: {ingredientes}\")\n",
        "else:\n",
        "    print(\"No se pudo obtener la lista de ingredientes.\")\n",
        "\n"
      ],
      "metadata": {
        "id": "ESjUEEHl2oso",
        "outputId": "5dd1e1e6-b25d-4fb6-be0a-55bea33d605f",
        "colab": {
          "base_uri": "https://localhost:8080/"
        }
      },
      "execution_count": 73,
      "outputs": [
        {
          "output_type": "stream",
          "name": "stdout",
          "text": [
            "No se encontraron ingredientes en la página del producto.\n",
            "No se pudo obtener la lista de ingredientes.\n"
          ]
        }
      ]
    }
  ],
  "metadata": {
    "colab": {
      "name": "Spatial_understanding.ipynb",
      "provenance": []
    },
    "kernelspec": {
      "display_name": "Python 3",
      "name": "python3"
    }
  },
  "nbformat": 4,
  "nbformat_minor": 0
}